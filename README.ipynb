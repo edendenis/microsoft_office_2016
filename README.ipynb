{
 "cells": [
  {
   "cell_type": "markdown",
   "metadata": {},
   "source": [
    "# Como configurar/instalar o `Microsoft Office 2016` no `Linux Ubuntu`\n",
    "\n",
    "## Resumo\n",
    "\n",
    "Neste documento estão contidos os principais comandos e configurações para instalar/configurar o `Microsoft Office 2016` no `Linux Ubuntu`.\n",
    "\n",
    "## _Abstract_\n",
    "\n",
    "_This document contains the main commands and settings to install/configure the `Microsoft Office 2016` on `Linux Ubuntu`._\n"
   ]
  },
  {
   "cell_type": "markdown",
   "metadata": {},
   "source": [
    "## Descrição [2]\n",
    "\n",
    "### `Microsoft Office 2016`\n",
    "\n",
    "O `Microsoft Office 2016` é uma suíte de aplicativos de produtividade lançada pela `Microsoft`, que oferece ferramentas essenciais tanto para usuários domésticos quanto para empresas. Inclui programas populares como `Word`, `Excel`, `PowerPoint`, `Outlook`, `Access` e `Publisher`, cada um com funções específicas que vão desde a criação de documentos de texto e gerenciamento de e-mails, até análise de dados e apresentações dinâmicas. O `Office 2016` trouxe melhorias significativas em colaboração e segurança, integrando-se com o `OneDrive` e outros serviços em nuvem, e apresentando recursos como a coautoria em tempo real e a proteção de dados avançada, refletindo as necessidades de um ambiente de trabalho mais conectado e seguro.\n"
   ]
  },
  {
   "cell_type": "markdown",
   "metadata": {},
   "source": [
    "## 1. Como baixar o arquivo `.iso` do `Microsoft Office 2016`\n",
    "\n",
    "1. Acessar o website <https://massgrave.dev/>\n",
    "\n",
    "<div align=\"center\">\n",
    "    <img src=\"figures/fig1.png\" alt=\"Minha Imagem\" />\n",
    "    <p>Fig. 1 . https://massgrave.dev. </p>\n",
    "</div>"
   ]
  },
  {
   "cell_type": "markdown",
   "metadata": {},
   "source": [
    "2. Clicar em `Download Windows/Office`\n",
    "\n",
    "<div align=\"center\">\n",
    "    <img src=\"figures/fig2.png\" alt=\"Minha Imagem\" />\n",
    "    <p>Fig. 2 https://massgrave.dev/#Download__How_to_use_it.</p>\n",
    "</div>\n"
   ]
  },
  {
   "cell_type": "markdown",
   "metadata": {},
   "source": [
    "3. Clicar em `Office MSI VL (Old versions)`\n",
    "\n",
    "<div align=\"center\">\n",
    "    <img src=\"figures/fig3.png\" alt=\"Minha Imagem\" />\n",
    "    <p>Fig. 3 https://massgrave.dev/genuine-installation-media.html#Verify_Authenticity_Of_Files.</p>\n",
    "</div>\n"
   ]
  },
  {
   "cell_type": "markdown",
   "metadata": {},
   "source": [
    "4. Clicar em `Office MSI VL Download`\n",
    "\n",
    "<div align=\"center\">\n",
    "    <img src=\"figures/fig4.png\" alt=\"Minha Imagem\" />\n",
    "    <p>Fig. 4 .</p>\n",
    "</div>\n"
   ]
  },
  {
   "cell_type": "markdown",
   "metadata": {},
   "source": [
    "5. Clicar me `Office 2016 Pro Plus`\n",
    "\n",
    "<div align=\"center\">\n",
    "    <img src=\"figures/fig5.png\" alt=\"Minha Imagem\" />\n",
    "    <p>Fig. 5 .</p>\n",
    "</div>\n"
   ]
  },
  {
   "cell_type": "markdown",
   "metadata": {},
   "source": [
    "6. Clicar me `SW_DVD5_Office_Professional_Plus_2016_W32_English_MLF_X20-41353.ISO`\n",
    "\n",
    "<div align=\"center\">\n",
    "    <img src=\"figures/fig6.png\" alt=\"Minha Imagem\" />\n",
    "    <p>Fig. 6 .</p>\n",
    "</div>\n",
    "\n",
    "7. Salvar o arquivo em um pasta."
   ]
  },
  {
   "cell_type": "markdown",
   "metadata": {},
   "source": [
    "## 2. Como converter o arquivo `.iso` do `Microsoft Office 2016` em `.img` no `Linux Ubuntu` [4]\n",
    "\n",
    "Para converter um arquivo `.iso` para `.img` no `Terminal Emulator` do `Linux Ubuntu`, você pode usar a ferramenta `dd`, que é um utilitário de linha de comando para converter e copiar arquivos. Aqui está um exemplo de como fazer isso:\n",
    "\n",
    "1. Abra o `Terminal Emulator`. Você pode fazer isso pressionando: `Ctrl + Alt + T`\n"
   ]
  },
  {
   "cell_type": "markdown",
   "metadata": {},
   "source": [
    "2. Certifique-se de que seu sistema esteja limpo e atualizado.\n",
    "\n",
    "    2.1 Limpar o `cache` do gerenciador de pacotes `apt`. Especificamente, ele remove todos os arquivos de pacotes (`.deb`) baixados pelo `apt` e armazenados em `/var/cache/apt/archives/`. Digite o seguinte comando: `sudo apt clean` \n",
    "    \n",
    "    2.2 Remover pacotes `.deb` antigos ou duplicados do cache local. É útil para liberar espaço, pois remove apenas os pacotes que não podem mais ser baixados (ou seja, versões antigas de pacotes que foram atualizados). Digite o seguinte comando: `sudo apt autoclean`\n",
    "\n",
    "    2.3 Remover pacotes que foram automaticamente instalados para satisfazer as dependências de outros pacotes e que não são mais necessários. Digite o seguinte comando: `sudo apt autoremove -y`\n",
    "\n",
    "    2.4 Buscar as atualizações disponíveis para os pacotes que estão instalados em seu sistema. Digite o seguinte comando e pressione `Enter`: `sudo apt update`\n",
    "\n",
    "    2.5 **Corrigir pacotes quebrados**: Isso atualizará a lista de pacotes disponíveis e tentará corrigir pacotes quebrados ou com dependências ausentes: `sudo apt --fix-broken install`\n",
    "\n",
    "    2.6 Limpar o `cache` do gerenciador de pacotes `apt`. Especificamente, ele remove todos os arquivos de pacotes (`.deb`) baixados pelo `apt` e armazenados em `/var/cache/apt/archives/`. Digite o seguinte comando: `sudo apt clean` \n",
    "    \n",
    "    2.7 Para ver a lista de pacotes a serem atualizados, digite o seguinte comando e pressione `Enter`:  `sudo apt list --upgradable`\n",
    "\n",
    "    2.8 Realmente atualizar os pacotes instalados para as suas versões mais recentes, com base na última vez que você executou `sudo apt update`. Digite o seguinte comando e pressione `Enter`: `sudo apt full-upgrade -y`\n",
    "  "
   ]
  },
  {
   "cell_type": "markdown",
   "metadata": {},
   "source": [
    "3. Use o comando `dd` com a seguinte sintaxe: `sudo dd if=/caminho/para/arquivo.iso of=/caminho/para/arquivo.img bs=4M`\n",
    "\n",
    "    - `if=` especifica o arquivo de entrada (input file), que seria seu arquivo `.iso`.\n",
    "\n",
    "    - `of=` especifica o arquivo de saída (output file), que será o novo arquivo `.img`.\n",
    "\n",
    "    - `bs=4M` define o tamanho do bloco para 4 megabytes, o que pode ajudar a acelerar o processo de conversão.\n",
    "\n",
    "4. Pressione `Enter` para executar o comando.\n",
    "\n",
    "    Por exemplo, para converter um arquivo chamado `meu_disco.iso` localizado no diretório `Downloads` para um arquivo `meu_disco.img` no mesmo diretório, o comando seria: `sudo dd if=~/Downloads/meu_disco.iso of=~/Downloads/meu_disco.img bs=4M`\n",
    "\n",
    "Lembre-se de que este processo pode levar algum tempo, dependendo do tamanho do arquivo `.iso`. Além disso, tenha cuidado ao usar o comando `dd`, pois ele é muito poderoso e pode sobrescrever dados importantes se usado incorretamente.\n"
   ]
  },
  {
   "cell_type": "markdown",
   "metadata": {},
   "source": [
    "## 3. Configurar/Instalar/Atualizar o `wine` para a versão mais atualizada e estável\n",
    "\n",
    "Para atualizar o `Wine` para a versão `8.0.2` no Ubuntu, você pode seguir os passos abaixo. Note que estes passos são gerais e a disponibilidade de uma versão específica como `8.0.2` depende do repositório do `Wine` e se essa versão é oferecida para a distribuição do Ubuntu que você está usando.\n",
    "\n",
    "Aqui está um guia passo a passo:\n",
    "\n",
    "1. Abra o `Terminal Emulator`. Você pode fazer isso pressionando: `Ctrl + Alt + T`\n"
   ]
  },
  {
   "cell_type": "markdown",
   "metadata": {},
   "source": [
    "2. Certifique-se de que seu sistema esteja limpo e atualizado.\n",
    "\n",
    "    2.1 Limpar o `cache` do gerenciador de pacotes `apt`. Especificamente, ele remove todos os arquivos de pacotes (`.deb`) baixados pelo `apt` e armazenados em `/var/cache/apt/archives/`. Digite o seguinte comando: `sudo apt clean` \n",
    "    \n",
    "    2.2 Remover pacotes `.deb` antigos ou duplicados do cache local. É útil para liberar espaço, pois remove apenas os pacotes que não podem mais ser baixados (ou seja, versões antigas de pacotes que foram atualizados). Digite o seguinte comando: `sudo apt autoclean`\n",
    "\n",
    "    2.3 Remover pacotes que foram automaticamente instalados para satisfazer as dependências de outros pacotes e que não são mais necessários. Digite o seguinte comando: `sudo apt autoremove -y`\n",
    "\n",
    "    2.4 Buscar as atualizações disponíveis para os pacotes que estão instalados em seu sistema. Digite o seguinte comando e pressione `Enter`: `sudo apt update`\n",
    "\n",
    "    2.5 **Corrigir pacotes quebrados**: Isso atualizará a lista de pacotes disponíveis e tentará corrigir pacotes quebrados ou com dependências ausentes: `sudo apt --fix-broken install`\n",
    "\n",
    "    2.6 Limpar o `cache` do gerenciador de pacotes `apt`. Especificamente, ele remove todos os arquivos de pacotes (`.deb`) baixados pelo `apt` e armazenados em `/var/cache/apt/archives/`. Digite o seguinte comando: `sudo apt clean` \n",
    "    \n",
    "    2.7 Para ver a lista de pacotes a serem atualizados, digite o seguinte comando e pressione `Enter`:  `sudo apt list --upgradable`\n",
    "\n",
    "    2.8 Realmente atualizar os pacotes instalados para as suas versões mais recentes, com base na última vez que você executou `sudo apt update`. Digite o seguinte comando e pressione `Enter`: `sudo apt full-upgrade -y`\n",
    "    "
   ]
  },
  {
   "cell_type": "markdown",
   "metadata": {},
   "source": [
    "3. **Remova a versão atual do Wine (opcional):** Se você já tem o Wine instalado e quer garantir uma instalação limpa, você pode remover a versão atual antes de instalar uma nova: `sudo apt remove --purge wine wine64 wine32 wine-stable wine-staging -y`\n",
    "\n",
    "4. Habilite a arquitetura `i386` (se ainda não estiver habilitada), pois muitos aplicativos do Windows requerem suporte para 32 bits: `sudo dpkg --add-architecture i386`\n",
    "\n",
    "5. Adicione o repositório do `WineHQ`:\n",
    "\n",
    "    ```\n",
    "    wget -nc https://dl.winehq.org/wine-builds/winehq.key\n",
    "    sudo apt-key add winehq.key\n",
    "    sudo add-apt-repository 'deb https://dl.winehq.org/wine-builds/ubuntu/ focal main'\n",
    "    ```\n",
    "\n",
    "6. Atualize os pacotes: `sudo apt update`\n",
    "\n",
    "7. Instale a versão desejada do Wine:\n",
    "\n",
    "    7.1 Para a versão estável:\n",
    "    \n",
    "    ```\n",
    "    sudo apt-get install wine-stable:i386 smbclient winbind\n",
    "    wine --version\n",
    "    smbclient -V\n",
    "    winbindd -V\n",
    "    ```\n",
    "\n",
    "    Se você quiser especificamente a versão `8.0.2`, você pode precisar baixar o pacote `.deb` correspondente diretamente do site do WineHQ se ele estiver disponível para o `Ubuntu`.\n",
    "\n",
    "8. Verifique a versão instalada do Wine: `wine --version`\n",
    "\n",
    "    Caso haja dependências não satisfeitas durante a instalação, o `apt` irá notificá-lo e, geralmente, você pode resolvê-las com o comando: `sudo apt -f install`\n",
    "\n",
    "Depois de instalar o Wine, você pode tentar novamente instalar o `Microsoft Office 2016` usando o `PlayOnLinux` a partir da Seção `5`. Se você encontrar problemas de compatibilidade, considere também verificar se há scripts atualizados no `PlayOnLinux` para a instalação do `Office 2016`.\n"
   ]
  },
  {
   "cell_type": "markdown",
   "metadata": {},
   "source": [
    "## 4. Configurar/Instalar o `Playonlinux` no `Linux Ubuntu` [1]\n",
    "\n",
    "Para instalar o `Playonlinux` no `Linux Ubuntu`, você pode seguir estas etapas:\n",
    "\n",
    "1. Abra o `Terminal Emulator`. Você pode fazer isso pressionando: `Ctrl + Alt + T`\n",
    "    "
   ]
  },
  {
   "cell_type": "markdown",
   "metadata": {},
   "source": [
    "2. Certifique-se de que seu sistema esteja limpo e atualizado.\n",
    "\n",
    "    2.1 Limpar o `cache` do gerenciador de pacotes `apt`. Especificamente, ele remove todos os arquivos de pacotes (`.deb`) baixados pelo `apt` e armazenados em `/var/cache/apt/archives/`. Digite o seguinte comando: `sudo apt clean` \n",
    "    \n",
    "    2.2 Remover pacotes `.deb` antigos ou duplicados do cache local. É útil para liberar espaço, pois remove apenas os pacotes que não podem mais ser baixados (ou seja, versões antigas de pacotes que foram atualizados). Digite o seguinte comando: `sudo apt autoclean`\n",
    "\n",
    "    2.3 Remover pacotes que foram automaticamente instalados para satisfazer as dependências de outros pacotes e que não são mais necessários. Digite o seguinte comando: `sudo apt autoremove -y`\n",
    "\n",
    "    2.4 Buscar as atualizações disponíveis para os pacotes que estão instalados em seu sistema. Digite o seguinte comando e pressione `Enter`: `sudo apt update`\n",
    "\n",
    "    2.5 **Corrigir pacotes quebrados**: Isso atualizará a lista de pacotes disponíveis e tentará corrigir pacotes quebrados ou com dependências ausentes: `sudo apt --fix-broken install`\n",
    "\n",
    "    2.6 Limpar o `cache` do gerenciador de pacotes `apt`. Especificamente, ele remove todos os arquivos de pacotes (`.deb`) baixados pelo `apt` e armazenados em `/var/cache/apt/archives/`. Digite o seguinte comando: `sudo apt clean` \n",
    "    \n",
    "    2.7 Para ver a lista de pacotes a serem atualizados, digite o seguinte comando e pressione `Enter`:  `sudo apt list --upgradable`\n",
    "\n",
    "    2.8 Realmente atualizar os pacotes instalados para as suas versões mais recentes, com base na última vez que você executou `sudo apt update`. Digite o seguinte comando e pressione `Enter`: `sudo apt full-upgrade -y`\n",
    "  "
   ]
  },
  {
   "cell_type": "markdown",
   "metadata": {},
   "source": [
    "3. **Instalar `PlayOnLinux`:** Agora, instale o `PlayOnLinux` com o seguinte comando: `sudo apt install playonlinux -y`\n",
    "\n",
    "Depois de instalado, você pode abrir o `PlayOnLinux` a partir do menu de aplicativos ou executando `playonlinux` no terminal.\n"
   ]
  },
  {
   "cell_type": "markdown",
   "metadata": {},
   "source": [
    "## 5. Configurar o `PlayOnLinux (POL)` [5]\n",
    "\n",
    "**A considerar :** Wine x86 versão `4.15` é mais estável que `3.4` (abaixo) ou 3.14 (postagem do GlasierXplor no POL Forum). Ou seja, ele não trava aleatoriamente. A ressalva é que haverá alguns problemas com as imagens, mas deverá funcionar bem 97% das vezes. O Wine `4.15` requer a instalação da atualização POL `4.3.4` dos repositórios oficiais do `PlayOnLinux (POL)`.\n",
    "\n",
    "1. A versão `3.4` do Wine x86 foi usada para esta instalação, então verifique se ele está instalado iniciando o `PlayOnLinux (POL)` e selecionando `Tools-> Manage Wine Versions`. Janela Gerenciar versões do Wine com x86 versão 3.4 instalada\n",
    "\n",
    "<div align=\"center\">\n",
    "    <img src=\"figures/fig14.png\" alt=\"Minha Imagem\" />\n",
    "    <p>Fig. 14 .</p>\n",
    "</div>\n",
    "\n",
    "2. Se o Wine x86 versão `3.4` não aparecer em `Installed Wine versions`, selecione-a na janela `Available Wine versions:` e clique no botão `>` meio da janela para instalá-lo. Depois de instalado, feche e saia para o menu principal do `PlayOnLinux (POL)`.\n",
    "\n",
    "\n",
    "3. No `PlayOnLinux (POL)`, selecione `Configure` para entrar na tela de configuração e clique `New` no canto inferior esquerdo para iniciar o criador do drive virtual.\n",
    "\n",
    "4. Selecione instalação do Windows de 32 bits e pressione `Next`. Jogue no Linux 32 instalação do Windows de 32 bits\n",
    "\n",
    "<div align=\"center\">\n",
    "    <img src=\"figures/fig15.png\" alt=\"Minha Imagem\" />\n",
    "    <p>Fig. 15 .</p>\n",
    "</div>\n",
    "\n",
    "\n",
    "5. Selecione Wine versão `3.4` e pressione `Next`.\n",
    "\n",
    "6. Dê um nome ao drive virtual (por exemplo `Office2016pp`) e pressione `Next` para iniciar a criação. Selecione para instalar o Mono se o POL solicitar.\n",
    "\n",
    "7. Assim que a criação da unidade virtual for concluída, você deverá retornar à tela principal de configuração do `PlayOnLinux (POL)`. Certifique-se de que a unidade recém-criada (por exemplo `Office2016pp`) esteja selecionada na janela esquerda.\n",
    "\n",
    "8. Clique na guia `Install components` na parte superior. Em seguida, role para baixo para selecionar `msxml6e` clique em `Install`.\n",
    "\n",
    "<div align=\"center\">\n",
    "    <img src=\"figures/fig16.png\" alt=\"Minha Imagem\" />\n",
    "    <p>Fig. 16 .</p>\n",
    "</div>\n",
    "\n",
    "9. Repita a etapa acima para instalar o componente `riched20`.\n",
    "\n",
    "10. Selecione a uia `Wine` na tela Configuração `PlayOnLinux (POL)` e clique em `Configure Wine`.\n",
    "\n",
    "11. Assim que a tela Configuração do Wine aparecer, clique na guia `Libraries`. Clique em `Edit...` para alterar `msxml6` e `riched20` para `(native, builtin)` ou `Native then Builtin`.\n",
    "\n",
    "<div align=\"center\">\n",
    "    <img src=\"figures/fig17.png\" alt=\"Minha Imagem\" />\n",
    "    <p>Fig. 17 .</p>\n",
    "</div>\n",
    "\n",
    "12. Na tela de configuração do Wine, clique na aba `Applications` e certifique-se de que `Windows 7` esteja selecionada como a versão do Windows. Saia para a tela de configuração do `PlayOnLinux (POL)`.\n",
    "\n",
    "13. Selecione a guia `Wine` na tela Configuração `PlayOnLinux (POL)` e clique em `Registry Editor` para abrir o Editor do Registro.\n",
    "\n",
    "14. Selecione para `HKEY_CURRENT_USER-> Software-> Wine`\n",
    "\n",
    "15. Clique `Edit-> New-> Key` e nomeie esta chave `Direct2D`.\n",
    "\n",
    "16. Selecione `Direct2D` e então `Edit-> New-> DWORD Value` e nomeie para `max_version_factory` com um valor de `0`.\n",
    "\n",
    "<div align=\"center\">\n",
    "    <img src=\"figures/fig18.png\" alt=\"Minha Imagem\" />\n",
    "    <p>Fig. 18 .</p>\n",
    "</div>\n",
    "\n",
    "17 Feche o `Registry Editor` e retorne à tela Configuração do `PlayOnLinux (POL)`.\n"
   ]
  },
  {
   "cell_type": "markdown",
   "metadata": {},
   "source": [
    "## 6. Configurar/Instalar o `Microsoft Office 2016` no `Linux Ubuntu` (caso ainda não esteja instalado) [1]\n",
    "\n",
    "Para instalar o `Microsoft Office 2016` no `Linux Ubuntu`, siga os passos abaixo::\n",
    "\n",
    "1. Abra o terminal. Você pode fazer isso pressionando: `Ctrl + Alt + T`\n"
   ]
  },
  {
   "cell_type": "markdown",
   "metadata": {},
   "source": [
    "2. Certifique-se de que seu sistema esteja limpo e atualizado.\n",
    "\n",
    "    2.1 Remover pacotes `.deb` antigos ou duplicados do cache local. É útil para liberar espaço, pois remove apenas os pacotes que não podem mais ser baixados (ou seja, versões antigas de pacotes que foram atualizados). Digite o seguinte comando: `sudo apt autoclean`\n",
    "\n",
    "    2.2 Remover pacotes que foram automaticamente instalados para satisfazer as dependências de outros pacotes e que não são mais necessários. Digite o seguinte comando: `sudo apt autoremove -y`\n",
    "\n",
    "    2.3 Buscar as atualizações disponíveis para os pacotes que estão instalados em seu sistema. Digite o seguinte comando e pressione `Enter`: `sudo apt update -y`\n",
    "\n",
    "    2.4 Para ver a lista de pacotes a serem atualizados, digite o seguinte comando e pressione `Enter`:  `sudo apt list --upgradable`\n",
    "\n",
    "    2.5 Realmente atualizar os pacotes instalados para as suas versões mais recentes, com base na última vez que você executou `sudo apt update -y`. Digite o seguinte comando e pressione `Enter`: `sudo apt full-upgrade -y`\n",
    "\n",
    "    2.6 Remover pacotes que foram automaticamente instalados para satisfazer as dependências de outros pacotes e que não são mais necessários. Digite o seguinte comando: `sudo apt autoremove -y`\n",
    "\n",
    "    2.7 Remover pacotes `.deb` antigos ou duplicados do cache local. É útil para liberar espaço, pois remove apenas os pacotes que não podem mais ser baixados (ou seja, versões antigas de pacotes que foram atualizados). Digite o seguinte comando: `sudo apt autoclean`"
   ]
  },
  {
   "cell_type": "markdown",
   "metadata": {},
   "source": [
    "3. Para instalar o `7zip`, digitar o comando: `sudo apt install p7zip-full p7zip-rar -y`\n",
    "\n",
    "4. Cria a pasta com o mesmo nome do arquivo `.iso`, se ela não existir: `mkdir -p SW_DVD5_Office_Professional_Plus_2016_W32_English_MLF_X20-41353`\n",
    "\n",
    "5. Para extrair o arquivo `.iso`, digitar o comando: `7z x SW_DVD5_Office_Professional_Plus_2016_W32_English_MLF_X20-41353.iso -oSW_DVD5_Office_Professional_Plus_2016_W32_English_MLF_X20-41353`\n",
    "\n",
    "6. Para instalar o `winbind`, digitar o comando: `sudo apt install winbind -y`\n",
    "\n",
    "7. Para instalar o `playonlinux`, digitar o comando: `sudo apt install playonlinux -y`\n",
    "\n",
    "8. Para abrir o `playonlinux`, digitar o comando: `playonlinux`\n"
   ]
  },
  {
   "cell_type": "markdown",
   "metadata": {},
   "source": [
    "8. Clicar em `Install`:\n",
    "\n",
    "<div align=\"center\">\n",
    "    <img src=\"figures/fig7.png\" alt=\"Minha Imagem\" />\n",
    "    <p>Fig. 7 .</p>\n",
    "</div>\n"
   ]
  },
  {
   "cell_type": "markdown",
   "metadata": {},
   "source": [
    "9. Clicar em `Search`:\n",
    "\n",
    "<div align=\"center\">\n",
    "    <img src=\"figures/fig8.png\" alt=\"Minha Imagem\" />\n",
    "    <p>Fig. 8 .</p>\n",
    "</div>\n"
   ]
  },
  {
   "cell_type": "markdown",
   "metadata": {},
   "source": [
    "10. Digitar `Microsoft Office 2016`:\n",
    "\n",
    "<div align=\"center\">\n",
    "    <img src=\"figures/fig9.png\" alt=\"Minha Imagem\" />\n",
    "    <p>Fig. 9 .</p>\n",
    "</div>\n"
   ]
  },
  {
   "cell_type": "markdown",
   "metadata": {},
   "source": [
    "11. Clicar em `Microsoft Office 2016 (method B)`:\n",
    "\n",
    "<div align=\"center\">\n",
    "    <img src=\"figures/fig10.png\" alt=\"Minha Imagem\" />\n",
    "    <p>Fig. 10 .</p>\n",
    "</div>\n",
    "\n"
   ]
  },
  {
   "cell_type": "markdown",
   "metadata": {},
   "source": [
    "12. Clicar em `Install`:\n",
    "\n",
    "<div align=\"center\">\n",
    "    <img src=\"figures/fig11.png\" alt=\"Minha Imagem\" />\n",
    "    <p>Fig. 11 .</p>\n",
    "</div>\n"
   ]
  },
  {
   "cell_type": "markdown",
   "metadata": {},
   "source": [
    "13. Seguir com as instruções do arquivo de instalação executável`.exe`\n",
    "\n",
    "<div align=\"center\">\n",
    "    <img src=\"figures/fig12.png\" alt=\"Minha Imagem\" />\n",
    "    <p>Fig. 12.</p>\n",
    "</div>\n"
   ]
  },
  {
   "cell_type": "markdown",
   "metadata": {},
   "source": [
    "Aqui estão os comandos correspondentes para cada etapa:\n",
    "\n",
    "## 1.4 Comentários sobre os comandos\n",
    "\n",
    "### Instalação dos pacotes `7zip`\n",
    "\n",
    "- **`sudo apt install p7zip-full p7zip-rar -y`:** Esse comando instala os pacotes `p7zip-full` e `p7zip-rar` no sistema. Estes são utilizados para descompactar arquivos `.7z`, que é um formato de arquivo compactado com alta taxa de compressão. O `p7zip-full` fornece o suporte ao formato `7z`, e o `p7zip-rar` adiciona suporte aos arquivos `.rar`. A opção `-y` é utilizada para confirmar automaticamente qualquer pergunta feita durante a instalação.\n",
    "\n",
    "### Descompactação de um arquivo `.iso`\n",
    "\n",
    "- **`7z x SW_DVD5_Office_Professional_Plus_2016_W32_English_MLF_X20-41353.iso`:** Este comando utiliza o `7zip` para extrair os arquivos de dentro de uma imagem ISO, que neste caso parece ser uma versão do Microsoft Office Professional Plus 2016. O comando `7z x` é usado para extrair os arquivos com as estruturas de diretórios intactas.\n",
    "\n",
    "### Instalação do `winbind`\n",
    "\n",
    "- **`sudo apt install winbind -y`:** Este comando instala o pacote `winbind`, que é uma parte do conjunto de ferramentas Samba. Ele permite que o sistema operacional Linux comunique-se com serviços de diretório do Windows, como Active Directory. O `winbind` pode ser necessário para algumas aplicações do Windows rodarem adequadamente no Linux, especialmente quando são executadas através do Wine ou PlayOnLinux. Novamente, `-y` é usado para aceitar todas as prompts automaticamente.\n",
    "\n",
    "### Instalação do PlayOnLinux\n",
    "\n",
    "- **`sudo apt install `PlayOnLinux`-y`:** Aqui, estamos instalando o `playonlinux`, um front-end gráfico para o Wine que facilita a instalação e a execução de jogos e softwares desenvolvidos para o Windows em sistemas Linux. O `PlayOnLinux`usa scripts para fornecer uma instalação automatizada e configurada de muitos aplicativos e jogos do Windows.\n",
    "\n",
    "### Execução do PlayOnLinux\n",
    "\n",
    "- **`playonlinux`:** Este comando simplesmente inicia o PlayOnLinux. Depois de instalado, você pode rodá-lo sem necessidade de privilégios de superusuário.\n",
    "\n",
    "Esses comandos são típicos para um usuário que quer instalar e usar software do Windows em um sistema operacional Linux, especificamente para a instalação de software que não foi projetado nativamente para Linux."
   ]
  },
  {
   "cell_type": "markdown",
   "metadata": {},
   "source": [
    "## 2. Código completo\n",
    "\n",
    "### 2.1 Instalar o Wine\n",
    "\n",
    "    ```\n",
    "    sudo apt update -y\n",
    "    sudo apt list --upgradable\n",
    "    sudo apt full-upgrade -y\n",
    "    sudo apt remove --purge wine wine64 wine32 wine-stable wine-staging -y\n",
    "    sudo dpkg --add-architecture i386\n",
    "    wget -nc https://dl.winehq.org/wine-builds/winehq.key\n",
    "    sudo apt-key add winehq.key\n",
    "    sudo add-apt-repository 'deb https://dl.winehq.org/wine-builds/ubuntu/ focal main'\n",
    "    sudo apt update -y\n",
    "    sudo apt install --install-recommends winehq-stable -y\n",
    "    wine --version\n",
    "    ```\n",
    "\n",
    "### 2.3 Extrair o arquivo `.iso`\n",
    "\n",
    "    ```\n",
    "    sudo apt update -y\n",
    "    sudo apt list --upgradable\n",
    "    sudo apt full-upgrade -y\n",
    "    sudo apt install p7zip-full p7zip-rar -y\n",
    "    sudo mkdir SW_DVD5_Office_Professional_Plus_2016_W32_English_MLF_X20-41353\n",
    "    7z x SW_DVD5_Office_Professional_Plus_2016_W32_English_MLF_X20-41353.iso -oSW_DVD5_Office_Professional_Plus_2016_W32_English_MLF_X20-41353\n",
    "    ```\n",
    "\n",
    "### 2.3 Instalar o Playonlinux\n",
    "\n",
    "    ```\n",
    "    sudo apt update -y\n",
    "    sudo apt list --upgradable\n",
    "    sudo apt full-upgrade -y\n",
    "    sudo apt install winbind -y\n",
    "    sudo apt install `PlayOnLinux`-y\n",
    "    playonlinux\n",
    "    ```"
   ]
  },
  {
   "cell_type": "markdown",
   "metadata": {
    "vscode": {
     "languageId": "plaintext"
    }
   },
   "source": [
    "## Referências\n",
    "\n",
    "[1] OPENAI. ***Instalação do bottle no ubuntu.*** Disponível em: <https://chat.openai.com/c/92444ccc-f995-4e9c-8f03-678931882241> (texto adaptado). Acessado em: 01/11/2023 19:17.\n",
    "\n",
    "[2] OPENAI. ***Microsoft office 2016 overview.*** Disponível em: <https://chat.openai.com/c/f4373ad1-fde7-48c6-933a-91a70564cb26> (texto adaptado). Acessado em: 05/11/2023 23:22.\n",
    "\n",
    "[3] OPENAI. ***Extrair iso com 7-zip.*** Disponível em: <https://chat.openai.com/c/9aeb16fc-d4dc-4a5b-a7eb-cd82d851d7b7> (texto adaptado). Acessado em: 06/11/2023 09:37.\n",
    "\n",
    "[4] OPENAI. ***Converter arquivo `.iso` em `.img`.*** Disponível em: <https://chat.openai.com/c/498fa917-4067-4fc5-b69d-31c9514dc47e> (texto adaptado). Acessado em: 23/11/2023 13:47.\n"
   ]
  }
 ],
 "metadata": {
  "kernelspec": {
   "display_name": "Python 3",
   "language": "python",
   "name": "python3"
  },
  "language_info": {
   "codemirror_mode": {
    "name": "ipython",
    "version": 3
   },
   "file_extension": ".py",
   "mimetype": "text/x-python",
   "name": "python",
   "nbconvert_exporter": "python",
   "pygments_lexer": "ipython3",
   "version": "3.8.10"
  },
  "orig_nbformat": 4
 },
 "nbformat": 4,
 "nbformat_minor": 2
}
